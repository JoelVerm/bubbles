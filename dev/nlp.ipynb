{
 "cells": [
  {
   "cell_type": "code",
   "execution_count": null,
   "metadata": {},
   "outputs": [],
   "source": [
    "! pip install keybert"
   ]
  },
  {
   "cell_type": "code",
   "execution_count": 1,
   "metadata": {},
   "outputs": [
    {
     "name": "stderr",
     "output_type": "stream",
     "text": [
      "/home/joelv/miniconda3/envs/bubbles/lib/python3.11/site-packages/tqdm/auto.py:21: TqdmWarning: IProgress not found. Please update jupyter and ipywidgets. See https://ipywidgets.readthedocs.io/en/stable/user_install.html\n",
      "  from .autonotebook import tqdm as notebook_tqdm\n"
     ]
    }
   ],
   "source": [
    "from keybert import KeyBERT"
   ]
  },
  {
   "cell_type": "code",
   "execution_count": 11,
   "metadata": {},
   "outputs": [],
   "source": [
    "full_text = '''\n",
    "# Bint\n",
    "\n",
    "- Kun je kort de plot van het boek samenvatten?\n",
    "\n",
    "  Ja, het boek \"Bint\" gaat over een strenge schoolhoofd genaamd Bint, die een groep studenten op een kostschool probeert te disciplineren. De plot volgt de ervaringen van een leraar genaamd De Bree, die wordt ingehuurd door Bint om de klas te onderwijzen. Het verhaal draait om de manier waarop de studenten en de leraar omgaan met Bint's extreme methodes en hun eigen onderdrukte emoties en frustraties.\n",
    "\n",
    " - Welke thema's komen er aan bod in het boek?\n",
    "\n",
    "   Het boek behandelt verschillende thema's, waaronder discipline, onderdrukking, controle, individualiteit en de strijd tussen intellectuele vrijheid en autoriteit. Het richt zich vooral op de spanning tussen de eisen van de samenleving en de persoonlijke vrijheid van het individu.\n",
    "\n",
    "- Wat is jouw mening over de schrijfstijl van Bordewijk in dit boek?\n",
    "\n",
    "  Bordewijk staat bekend om zijn gebruik van een koele, afstandelijke stijl die vaak wordt geassocieerd met het expressionisme. Dit stijl wordt ook duidelijk toegepast in \"Bint\". Zijn schrijfstijl is dus zeker opvallend en kenmerkend, en draagt bij aan de sfeer van het boek.\n",
    "\n",
    " - Wat is volgens jou de betekenis van de titel \"Bint\"?\n",
    "\n",
    "   De titel \"Bint\" verwijst naar het schoolhoofd, maar heeft ook een symbolische betekenis. In het boek staat de naam \"Bint\" voor de krachtige, autoritaire kracht die de studenten en de leraren op school beheerst. Dit staat symbool voor de kracht van de samenleving om het individu te onderdrukken en te controleren.\n",
    "\n",
    "- Wat vind je van de manier waarop het verhaal eindigt?\n",
    "\n",
    "  Het einde van het boek is open en laat veel aan de verbeelding van de lezer over. Het is niet duidelijk wat er precies met de studenten gebeurt nadat ze de school hebben verlaten, of hoe de leraren zich verhouden tot de gebeurtenissen op school. Sommige lezers zullen dit waarschijnlijk als teleurstellend ervaren, terwijl anderen het juist intrigerend vinden en het verhaal zelf laten afmaken.\n",
    "\n",
    "- Hoe illustreert \"Bint\" de spanning tussen individualiteit en autoriteit?\n",
    "\n",
    "    In \"Bint\" worden de studenten en leraren op de school gedwongen om zich te conformeren aan de strenge, autoritaire normen van Bint. De nadruk ligt op discipline en gehoorzaamheid aan de regels, en er is weinig ruimte voor individuele expressie en creativiteit. De personages die hier tegenin gaan worden gestraft en gebrandmerkt als \"mislukt\". De roman laat zien hoe deze strijd tussen de eisen van de maatschappij en de wens om als individu te leven, kan leiden tot conflicten en onderdrukking.\n",
    "\n",
    "- Wat is de relatie tussen taal en macht in \"Bint\"?\n",
    "\n",
    "    Taal speelt een belangrijke rol in \"Bint\", vooral als het gaat om de manier waarop Bint haar autoriteit uitoefent. Ze gebruikt vaak verheven taal en complexe zinnen om haar boodschap over te brengen, waardoor ze een aura van autoriteit en wijsheid uitstraalt. Tegelijkertijd gebruikt ze taal als een instrument om de studenten en leraren te onderdrukken, door hen te kleineren en te beledigen. Bordewijk laat zien hoe taal kan worden gebruikt als een vorm van macht, en hoe het kan worden ingezet om mensen te manipuleren en te onderdrukken.\n",
    "\n",
    "  Hoe verhoudt \"Bint\" zich tot de filosofie van het existentialisme?\n",
    "\n",
    "    \"Bint\" kan worden gezien als een existentieel werk, omdat het gaat over de zoektocht naar individuele vrijheid en authenticiteit. De personages in de roman worden geconfronteerd met de beperkingen van hun omgeving en de eisen van de maatschappij, en proberen zich te bevrijden van deze beperkingen om hun eigen leven te leiden. Bordewijk laat zien hoe deze zoektocht naar vrijheid kan leiden tot conflict en angst, maar ook tot persoonlijke groei en vervulling. Het boek toont dus een existentialistisch perspectief op de menselijke ervaring en het zoeken naar betekenis in het leven.\n",
    "\n",
    "- Wat is het belang van de symboliek in \"Bint\"?\n",
    "\n",
    "    Bordewijk gebruikt veel symboliek in \"Bint\" om zijn ideeën over de maatschappij en de menselijke ervaring over te brengen. Bijvoorbeeld, de school waar het verhaal zich afspeelt kan worden gezien als een microkosmos van de samenleving als geheel, waarin autoriteit, discipline en conformiteit de overhand hebben. De personages worden vaak geassocieerd met dieren (zoals de uilachtige Bint en de leeuwachtige directeur), wat hun instinctieve reacties en verlangens benadrukt. De symboliek in het boek draagt dus bij aan de thema's en ideeën die worden onderzocht en helpt om de betekenis van het verhaal te versterken.\n",
    "'''"
   ]
  },
  {
   "cell_type": "code",
   "execution_count": null,
   "metadata": {},
   "outputs": [],
   "source": [
    "kw_model = KeyBERT(model='all-mpnet-base-v2')"
   ]
  },
  {
   "cell_type": "code",
   "execution_count": 14,
   "metadata": {},
   "outputs": [],
   "source": [
    "keywords = kw_model.extract_keywords(full_text,\n",
    "                                     top_n=5)"
   ]
  },
  {
   "cell_type": "code",
   "execution_count": 15,
   "metadata": {},
   "outputs": [
    {
     "name": "stdout",
     "output_type": "stream",
     "text": [
      "['bordewijk', 'duidelijk', 'persoonlijke', 'bint', 'waarschijnlijk']\n"
     ]
    }
   ],
   "source": [
    "keywords_list = list(dict(keywords).keys())\n",
    "print(keywords_list)"
   ]
  }
 ],
 "metadata": {
  "kernelspec": {
   "display_name": "Python 3",
   "language": "python",
   "name": "python3"
  },
  "language_info": {
   "codemirror_mode": {
    "name": "ipython",
    "version": 3
   },
   "file_extension": ".py",
   "mimetype": "text/x-python",
   "name": "python",
   "nbconvert_exporter": "python",
   "pygments_lexer": "ipython3",
   "version": "3.11.3"
  },
  "orig_nbformat": 4
 },
 "nbformat": 4,
 "nbformat_minor": 2
}
