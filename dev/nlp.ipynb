{
 "cells": [
  {
   "cell_type": "code",
   "execution_count": null,
   "metadata": {},
   "outputs": [],
   "source": [
    "! pip install keybert"
   ]
  },
  {
   "cell_type": "code",
   "execution_count": 1,
   "metadata": {},
   "outputs": [
    {
     "name": "stderr",
     "output_type": "stream",
     "text": [
      "/home/joelv/.local/lib/python3.10/site-packages/tqdm/auto.py:21: TqdmWarning: IProgress not found. Please update jupyter and ipywidgets. See https://ipywidgets.readthedocs.io/en/stable/user_install.html\n",
      "  from .autonotebook import tqdm as notebook_tqdm\n"
     ]
    }
   ],
   "source": [
    "from keybert import KeyBERT"
   ]
  },
  {
   "cell_type": "code",
   "execution_count": 2,
   "metadata": {},
   "outputs": [],
   "source": [
    "full_text = '''\n",
    "# Bio H19\n",
    "\n",
    "- Pezen en banden: Pezen zijn dikke, taaie bundels vezelachtig weefsel die skeletspieren verbinden met botten. Banden verbinden botten met elkaar en zorgen voor stabiliteit in het lichaam.\n",
    "\n",
    "- Bindweefsel: Bindweefsel heeft als functie om verschillende weefsels in het lichaam bij elkaar te houden. Het bestaat uit een gelachtige tussencelstof met veel eiwitten zoals collageen en elastine.\n",
    "\n",
    "- Spiervezels: Spieren bestaan uit spiervezels die myofibrillen bevatten. Myofibrillen zijn bundels van langgerekte eiwitfilamenten die bestaan uit myosine en actine. Deze filamenten zorgen voor de samentrekking van spieren.\n",
    "\n",
    "- Activatie van spiervezels: Spiervezels worden geactiveerd door impulsen vanuit de hersenen en motorneuronen. De impulsen zorgen ervoor dat calciumionen vrijkomen uit het sarcoplasmatisch reticulum.\n",
    "\n",
    "- Hartspierweefsel en glad spierweefsel: Hartspierweefsel is dwarsgestreept, terwijl glad spierweefsel geen streeppatroon heeft.\n",
    "\n",
    "- Samentrekking van spiervezels: De samentrekking van spiervezels wordt geregeld door het sarcoplasmatisch reticulum. T-buisjes bevatten veel ionkanalen die ervoor zorgen dat myosinemoleculen verder tussen actinemoleculen schuiven. Hierdoor verkort de lengte van de sarcomeren en trekt uiteindelijk de hele spier samen.\n",
    "\n",
    "- Myosine: Myosine is een motoreiwit dat ATP gebruikt om organellen of celonderdelen te laten bewegen. Het speelt een belangrijke rol in de samentrekking van spiervezels.\n",
    "'''"
   ]
  },
  {
   "cell_type": "code",
   "execution_count": 3,
   "metadata": {},
   "outputs": [],
   "source": [
    "kw_model = KeyBERT(model='all-mpnet-base-v2') #! too big and clunky"
   ]
  },
  {
   "cell_type": "code",
   "execution_count": 14,
   "metadata": {},
   "outputs": [],
   "source": [
    "kw_model = KeyBERT(model='all-MiniLM-L12-v2')"
   ]
  },
  {
   "cell_type": "code",
   "execution_count": 42,
   "metadata": {},
   "outputs": [
    {
     "name": "stderr",
     "output_type": "stream",
     "text": [
      "Downloading (…)925a9/.gitattributes: 100%|██████████| 690/690 [00:00<00:00, 451kB/s]\n",
      "Downloading (…)_Pooling/config.json: 100%|██████████| 190/190 [00:00<00:00, 69.8kB/s]\n",
      "Downloading (…)1a515925a9/README.md: 100%|██████████| 3.99k/3.99k [00:00<00:00, 1.98MB/s]\n",
      "Downloading (…)515925a9/config.json: 100%|██████████| 550/550 [00:00<00:00, 379kB/s]\n",
      "Downloading (…)ce_transformers.json: 100%|██████████| 122/122 [00:00<00:00, 181kB/s]\n",
      "Downloading pytorch_model.bin: 100%|██████████| 265M/265M [01:29<00:00, 2.98MB/s] \n",
      "Downloading (…)nce_bert_config.json: 100%|██████████| 53.0/53.0 [00:00<00:00, 46.9kB/s]\n",
      "Downloading (…)cial_tokens_map.json: 100%|██████████| 112/112 [00:00<00:00, 108kB/s]\n",
      "Downloading (…)925a9/tokenizer.json: 100%|██████████| 466k/466k [00:00<00:00, 2.65MB/s]\n",
      "Downloading (…)okenizer_config.json: 100%|██████████| 450/450 [00:00<00:00, 332kB/s]\n",
      "Downloading (…)1a515925a9/vocab.txt: 100%|██████████| 232k/232k [00:00<00:00, 2.73MB/s]\n",
      "Downloading (…)15925a9/modules.json: 100%|██████████| 229/229 [00:00<00:00, 174kB/s]\n"
     ]
    }
   ],
   "source": [
    "kw_model = KeyBERT(model='distilbert-base-nli-mean-tokens')\n"
   ]
  },
  {
   "cell_type": "code",
   "execution_count": 45,
   "metadata": {},
   "outputs": [
    {
     "name": "stdout",
     "output_type": "stream",
     "text": [
      "['florence', 'machiavelli', 'medici', 'niccolò', 'gevaarlijk']\n"
     ]
    }
   ],
   "source": [
    "keywords = kw_model.extract_keywords(full_text,\n",
    "                                     top_n=5)\n",
    "keywords_list = list(dict(keywords).keys())\n",
    "print(keywords_list)\n"
   ]
  }
 ],
 "metadata": {
  "kernelspec": {
   "display_name": "Python 3",
   "language": "python",
   "name": "python3"
  },
  "language_info": {
   "codemirror_mode": {
    "name": "ipython",
    "version": 3
   },
   "file_extension": ".py",
   "mimetype": "text/x-python",
   "name": "python",
   "nbconvert_exporter": "python",
   "pygments_lexer": "ipython3",
   "version": "3.10.6"
  },
  "orig_nbformat": 4
 },
 "nbformat": 4,
 "nbformat_minor": 2
}
